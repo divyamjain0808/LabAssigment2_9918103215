{
 "cells": [
  {
   "cell_type": "code",
   "execution_count": 1,
   "metadata": {},
   "outputs": [
    {
     "name": "stdout",
     "output_type": "stream",
     "text": [
      "Thank You  \n",
      " Bjaebdjkab\n",
      " Jakbjebd\n",
      " Bdaejbd\n",
      " Dekjbd\n",
      " Ajjd\n",
      " Divyam Jain\n",
      " "
     ]
    }
   ],
   "source": [
    "def reverse():\n",
    "    f=open(\"/Library/Frameworks/Python.framework/Versions/3.9/Resources/English.lproj/Documentation/_sources/Hello.txt\", 'r')\n",
    "    x=f.readlines()\n",
    "    y=x[::-1]\n",
    "    for i in y:\n",
    "        print(i,end=' ')\n",
    "\n",
    "\n",
    "if __name__ == \"__main__\":\n",
    "    reverse()\n",
    "    "
   ]
  },
  {
   "cell_type": "code",
   "execution_count": null,
   "metadata": {},
   "outputs": [],
   "source": []
  }
 ],
 "metadata": {
  "kernelspec": {
   "display_name": "Python 3",
   "language": "python",
   "name": "python3"
  },
  "language_info": {
   "codemirror_mode": {
    "name": "ipython",
    "version": 3
   },
   "file_extension": ".py",
   "mimetype": "text/x-python",
   "name": "python",
   "nbconvert_exporter": "python",
   "pygments_lexer": "ipython3",
   "version": "3.8.5"
  }
 },
 "nbformat": 4,
 "nbformat_minor": 4
}
