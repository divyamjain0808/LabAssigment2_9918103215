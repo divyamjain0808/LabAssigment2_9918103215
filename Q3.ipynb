{
 "cells": [
  {
   "cell_type": "code",
   "execution_count": null,
   "metadata": {},
   "outputs": [],
   "source": [
    "def group(list1,size):\n",
    "    i=0\n",
    "    X=[]\n",
    "    while i<len(list1):\n",
    "        if i+size>len(list1):\n",
    "            for k in range(i,len(list1)):\n",
    "                X.append(list1[k])\n",
    "            print(X)\n",
    "            break\n",
    "        for j in range(size):\n",
    "            X.append(list1[i+j])\n",
    "        print(X)\n",
    "        X.clear()\n",
    "        i=i+size\n",
    "    \n",
    "if __name__ == \"__main__\":\n",
    "    list1=list(map(int,input().split()))\n",
    "    size=int(input())\n",
    "    group(list1,size)"
   ]
  },
  {
   "cell_type": "code",
   "execution_count": null,
   "metadata": {},
   "outputs": [],
   "source": []
  },
  {
   "cell_type": "code",
   "execution_count": null,
   "metadata": {},
   "outputs": [],
   "source": []
  }
 ],
 "metadata": {
  "kernelspec": {
   "display_name": "Python 3",
   "language": "python",
   "name": "python3"
  },
  "language_info": {
   "codemirror_mode": {
    "name": "ipython",
    "version": 3
   },
   "file_extension": ".py",
   "mimetype": "text/x-python",
   "name": "python",
   "nbconvert_exporter": "python",
   "pygments_lexer": "ipython3",
   "version": "3.8.5"
  }
 },
 "nbformat": 4,
 "nbformat_minor": 4
}
